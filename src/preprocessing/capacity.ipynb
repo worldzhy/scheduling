{
 "cells": [
  {
   "cell_type": "code",
   "execution_count": 2,
   "metadata": {},
   "outputs": [],
   "source": [
    "# Imports\n",
    "import pandas as pd"
   ]
  },
  {
   "cell_type": "code",
   "execution_count": 11,
   "metadata": {},
   "outputs": [
    {
     "name": "stdout",
     "output_type": "stream",
     "text": [
      "   studio     day   program      coach  capacity\n",
      "0   44717  friday  fullbody  100000962        15\n",
      "1   44717  sunday  fullbody  100000132        15\n",
      "2   44717  sunday  fullbody  100000132        15\n",
      "3   44717  friday  fullbody  100000925        13\n",
      "4   44717  sunday   armsabs  100000665        15\n"
     ]
    }
   ],
   "source": [
    "# Read data\n",
    "data = pd.read_csv('../../data/raw/tblclasses.csv', usecols=['LOCATIONID', 'CLASSID', 'STUDIOID', 'CLASSTRAINERID', 'CLASSCAPACITY', 'DAYSUNDAY', 'DAYMONDAY', 'DAYTUESDAY', 'DAYWEDNESDAY', 'DAYTHURSDAY', 'DAYFRIDAY', 'DAYSATURDAY'])\n",
    "\n",
    "# Rename the selected columns\n",
    "data.rename(\n",
    "    columns = {\n",
    "        'LOCATIONID': 'location',\n",
    "        'CLASSID': 'classid',\n",
    "        'STUDIOID': 'studio',\n",
    "        'CLASSTRAINERID': 'coach',\n",
    "        'DAYSUNDAY': 'sunday',\n",
    "        'DAYMONDAY': 'monday',\n",
    "        'DAYTUESDAY': 'tuesday',\n",
    "        'DAYWEDNESDAY': 'wednesday',\n",
    "        'DAYTHURSDAY': 'thursday',\n",
    "        'DAYFRIDAY': 'friday',\n",
    "        'DAYSATURDAY': 'saturday',\n",
    "        'CLASSCAPACITY': 'capacity'\n",
    "    },\n",
    "    inplace = True\n",
    ")\n",
    "\n",
    "# Aggregate days in single column\n",
    "data['day'] = None\n",
    "days_of_week = ['sunday', 'monday', 'tuesday', 'wednesday', 'thursday', 'friday', 'saturday']\n",
    "for day in days_of_week:\n",
    "    data.loc[data[day], 'day'] = day\n",
    "data.drop(columns=days_of_week, inplace=True)\n",
    "\n",
    "# Add class names\n",
    "classname_tbl = pd.read_csv('../../data/interim/classname.csv')\n",
    "data = data.merge(classname_tbl, on='classid', how='left')\n",
    "data.rename(\n",
    "    columns = {\n",
    "        'classname': 'program',\n",
    "    },\n",
    "    inplace = True\n",
    ")\n",
    "\n",
    "# Move capacity to be the rightmost columns\n",
    "data = data[['studio', 'day', 'program', 'coach', 'capacity']]\n",
    "\n",
    "# Print\n",
    "print(data.head())"
   ]
  },
  {
   "cell_type": "code",
   "execution_count": 3,
   "metadata": {},
   "outputs": [
    {
     "name": "stdout",
     "output_type": "stream",
     "text": [
      "Number of rows: 208771\n",
      "Unique studios: 30\n",
      "Unique programs: 3884\n",
      "Unique coaches: 981\n",
      "Unique locations: 22\n",
      "Unique days: 7\n"
     ]
    }
   ],
   "source": [
    "# Explore data\n",
    "print('Number of rows:', data.shape[0])\n",
    "print('Unique studios:', len(data['studio'].unique()))\n",
    "print('Unique programs:', len(data['program'].unique()))\n",
    "print('Unique coaches:', len(data['coach'].unique()))\n",
    "print('Unique locations:', len(data['location'].unique()))\n",
    "print('Unique days:', len(data['day'].unique()))"
   ]
  },
  {
   "cell_type": "code",
   "execution_count": 4,
   "metadata": {},
   "outputs": [
    {
     "name": "stdout",
     "output_type": "stream",
     "text": [
      "         CLASSSTARTTIME          CLASSENDTIME        CLASSDATESTART  \\\n",
      "0  1899-12-30T06:00:00Z  1899-12-30T06:50:00Z  2023-09-01T00:00:00Z   \n",
      "1  1899-12-30T11:30:00Z  1899-12-30T12:20:00Z  2023-09-03T00:00:00Z   \n",
      "2  1899-12-30T10:30:00Z  1899-12-30T11:20:00Z  2023-09-03T00:00:00Z   \n",
      "3  1899-12-30T16:30:00Z  1899-12-30T17:20:00Z  2023-09-01T00:00:00Z   \n",
      "4  1899-12-30T08:30:00Z  1899-12-30T09:20:00Z  2023-09-03T00:00:00Z   \n",
      "\n",
      "           CLASSDATEEND          CLASSUPDATED          CREATIONDATETIME  \\\n",
      "0  2024-05-06T00:00:00Z  2023-08-16T00:00:00Z   2023-08-16T19:36:04.61Z   \n",
      "1  2026-05-01T00:00:00Z  2023-08-16T00:00:00Z  2023-08-16T20:13:38.606Z   \n",
      "2  2026-05-01T00:00:00Z  2023-08-16T00:00:00Z   2023-08-16T19:59:28.27Z   \n",
      "3  2026-08-06T00:00:00Z  2023-08-16T00:00:00Z  2023-08-16T18:51:05.873Z   \n",
      "4  2026-09-03T00:00:00Z  2023-08-16T00:00:00Z   2023-08-16T19:55:27.39Z   \n",
      "\n",
      "  LASTMODIFIEDON      CREATEDDATETIMEUTC     MODIFIEDDATETIMEUTC  STUDIOID  \\\n",
      "0            NaN  2023-08-17T02:36:04.6Z  2023-08-17T02:36:04.6Z     44717   \n",
      "1            NaN  2023-08-17T03:13:38.6Z  2023-08-17T03:14:19.4Z     44717   \n",
      "2            NaN  2023-08-17T02:59:28.3Z  2023-08-17T02:59:35.3Z     44717   \n",
      "3            NaN  2023-08-17T01:51:05.9Z  2023-08-17T01:51:05.9Z     44717   \n",
      "4            NaN  2023-08-17T02:55:27.4Z  2023-08-17T02:55:36.4Z     44717   \n",
      "\n",
      "   ...  USELEADFOLLOWSPLIT  MASKTRAINER  ALLOWUNPAIDS  ALLOWOPENENROLLMENT  \\\n",
      "0  ...               False        False          True                False   \n",
      "1  ...               False        False          True                False   \n",
      "2  ...               False        False          True                False   \n",
      "3  ...               False        False          True                False   \n",
      "4  ...               False        False          True                False   \n",
      "\n",
      "   TRPAYSASST1  TRPAYSASST2  ALLOWDATEFORWARDENROLLMENT  RECURRING  \\\n",
      "0        False        False                       False      False   \n",
      "1        False        False                       False      False   \n",
      "2        False        False                       False      False   \n",
      "3        False        False                       False      False   \n",
      "4        False        False                       False      False   \n",
      "\n",
      "   SOFTDELETED         LOADEDDATETIMEUTC  \n",
      "0        False  2023-08-17T08:27:15.067Z  \n",
      "1        False  2023-08-17T08:27:15.067Z  \n",
      "2        False  2023-08-17T08:27:15.067Z  \n",
      "3        False  2023-08-17T08:27:15.067Z  \n",
      "4        False  2023-08-17T08:27:15.067Z  \n",
      "\n",
      "[5 rows x 50 columns]\n"
     ]
    }
   ],
   "source": [
    "data = pd.read_csv('../../data/raw/tblclasses.csv')\n",
    "print(data.head())"
   ]
  }
 ],
 "metadata": {
  "kernelspec": {
   "display_name": "Python 3",
   "language": "python",
   "name": "python3"
  },
  "language_info": {
   "codemirror_mode": {
    "name": "ipython",
    "version": 3
   },
   "file_extension": ".py",
   "mimetype": "text/x-python",
   "name": "python",
   "nbconvert_exporter": "python",
   "pygments_lexer": "ipython3",
   "version": "3.11.4"
  },
  "orig_nbformat": 4
 },
 "nbformat": 4,
 "nbformat_minor": 2
}
