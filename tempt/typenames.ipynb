{
 "cells": [
  {
   "cell_type": "code",
   "execution_count": 1,
   "metadata": {},
   "outputs": [],
   "source": [
    "# Imports\n",
    "import pandas as pd\n",
    "import numpy as np"
   ]
  },
  {
   "cell_type": "code",
   "execution_count": 2,
   "metadata": {},
   "outputs": [
    {
     "name": "stdout",
     "output_type": "stream",
     "text": [
      "874\n",
      "85\n"
     ]
    }
   ],
   "source": [
    "# Read data\n",
    "data = pd.read_csv('../data/tables/tblvisittypes.csv', usecols=['TYPENAME'])\n",
    "\n",
    "# Try to clean data to remove some duplicates\n",
    "data['TYPENAME'] = data['TYPENAME'].str.lower()\n",
    "data['TYPENAME'] = data['TYPENAME'].str.replace(r'\\bclasses\\b', 'class', case=False, regex=True)\n",
    "data['TYPENAME'] = data['TYPENAME'].str.replace(r'\\bclass\\b', '', case=False, regex=True)\n",
    "data['TYPENAME'] = data['TYPENAME'].str.replace(r'\\bcoaches\\b', 'coach', case=False, regex=True)\n",
    "data['TYPENAME'] = data['TYPENAME'].str.replace(r'-', '', case=False, regex=True)\n",
    "data['TYPENAME'] = data['TYPENAME'].str.replace(r'\\[', '', case=False, regex=True)\n",
    "data['TYPENAME'] = data['TYPENAME'].str.replace(r'\\]', '', case=False, regex=True)\n",
    "data['TYPENAME'] = data['TYPENAME'].str.replace(r'!', '', case=False, regex=True)\n",
    "data['TYPENAME'] = data['TYPENAME'].str.strip()\n",
    "\n",
    "# Get uniques\n",
    "uniques = np.sort(data['TYPENAME'].unique())\n",
    "\n",
    "# Print\n",
    "print(data.shape[0])\n",
    "print(len(uniques))\n",
    "\n",
    "# Save uniques in csv\n",
    "np.savetxt('typenames.csv', uniques, fmt='%s')"
   ]
  }
 ],
 "metadata": {
  "kernelspec": {
   "display_name": "Python 3",
   "language": "python",
   "name": "python3"
  },
  "language_info": {
   "codemirror_mode": {
    "name": "ipython",
    "version": 3
   },
   "file_extension": ".py",
   "mimetype": "text/x-python",
   "name": "python",
   "nbconvert_exporter": "python",
   "pygments_lexer": "ipython3",
   "version": "3.11.4"
  },
  "orig_nbformat": 4
 },
 "nbformat": 4,
 "nbformat_minor": 2
}
