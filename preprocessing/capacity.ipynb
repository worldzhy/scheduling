{
 "cells": [
  {
   "cell_type": "code",
   "execution_count": 1,
   "metadata": {},
   "outputs": [],
   "source": [
    "# Imports\n",
    "import pandas as pd"
   ]
  },
  {
   "cell_type": "code",
   "execution_count": 2,
   "metadata": {},
   "outputs": [
    {
     "name": "stdout",
     "output_type": "stream",
     "text": [
      "   studio  program      coach  location     day  capacity\n",
      "0   44717      966  100000962         4  friday        15\n",
      "1   44717      966  100000132         4  sunday        15\n",
      "2   44717      966  100000132         4  sunday        15\n",
      "3   44717        3  100000925        19  friday        13\n",
      "4   44717     1951  100000665         4  sunday        15\n"
     ]
    }
   ],
   "source": [
    "# Read data\n",
    "data = pd.read_csv('../data/tables/tblclasses.csv', usecols=['LOCATIONID', 'STUDIOID', 'CLASSTRAINERID', 'DESCRIPTIONID', 'CLASSCAPACITY', 'DAYSUNDAY', 'DAYMONDAY', 'DAYTUESDAY', 'DAYWEDNESDAY', 'DAYTHURSDAY', 'DAYFRIDAY', 'DAYSATURDAY'])\n",
    "\n",
    "# Filter data (sample only)\n",
    "data = data[data['STUDIOID'] == 44717]\n",
    "\n",
    "# Rename the selected columns\n",
    "data.rename(\n",
    "    columns = {\n",
    "        'LOCATIONID': 'location',\n",
    "        'STUDIOID': 'studio',\n",
    "        'CLASSTRAINERID': 'coach',\n",
    "        'DESCRIPTIONID': 'program',\n",
    "        'DAYSUNDAY': 'sunday',\n",
    "        'DAYMONDAY': 'monday',\n",
    "        'DAYTUESDAY': 'tuesday',\n",
    "        'DAYWEDNESDAY': 'wednesday',\n",
    "        'DAYTHURSDAY': 'thursday',\n",
    "        'DAYFRIDAY': 'friday',\n",
    "        'DAYSATURDAY': 'saturday',\n",
    "        'CLASSCAPACITY': 'capacity'\n",
    "    },\n",
    "    inplace = True\n",
    ")\n",
    "\n",
    "# Aggregate days in single column\n",
    "data['day'] = None\n",
    "days_of_week = ['sunday', 'monday', 'tuesday', 'wednesday', 'thursday', 'friday', 'saturday']\n",
    "for day in days_of_week:\n",
    "    data.loc[data[day], 'day'] = day\n",
    "data.drop(columns=days_of_week, inplace=True)\n",
    "\n",
    "# Move capacity to be the rightmost columns\n",
    "column_to_move = data.pop('capacity') \n",
    "data['capacity'] = column_to_move\n",
    "\n",
    "# Print\n",
    "print(data.head())"
   ]
  },
  {
   "cell_type": "code",
   "execution_count": 3,
   "metadata": {},
   "outputs": [
    {
     "name": "stdout",
     "output_type": "stream",
     "text": [
      "Number of rows: 208771\n",
      "Unique studios: 30\n",
      "Unique programs: 3884\n",
      "Unique coaches: 981\n",
      "Unique locations: 22\n",
      "Unique days: 7\n"
     ]
    }
   ],
   "source": [
    "# Explore data\n",
    "print('Number of rows:', data.shape[0])\n",
    "print('Unique studios:', len(data['studio'].unique()))\n",
    "print('Unique programs:', len(data['program'].unique()))\n",
    "print('Unique coaches:', len(data['coach'].unique()))\n",
    "print('Unique locations:', len(data['location'].unique()))\n",
    "print('Unique days:', len(data['day'].unique()))"
   ]
  }
 ],
 "metadata": {
  "kernelspec": {
   "display_name": "Python 3",
   "language": "python",
   "name": "python3"
  },
  "language_info": {
   "codemirror_mode": {
    "name": "ipython",
    "version": 3
   },
   "file_extension": ".py",
   "mimetype": "text/x-python",
   "name": "python",
   "nbconvert_exporter": "python",
   "pygments_lexer": "ipython3",
   "version": "3.11.4"
  },
  "orig_nbformat": 4
 },
 "nbformat": 4,
 "nbformat_minor": 2
}
