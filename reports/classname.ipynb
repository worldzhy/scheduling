{
 "cells": [
  {
   "cell_type": "code",
   "execution_count": 5,
   "metadata": {},
   "outputs": [],
   "source": [
    "# Imports\n",
    "import pandas as pd\n",
    "import numpy as np"
   ]
  },
  {
   "cell_type": "code",
   "execution_count": 15,
   "metadata": {},
   "outputs": [
    {
     "name": "stdout",
     "output_type": "stream",
     "text": [
      "29183\n",
      "4601\n"
     ]
    }
   ],
   "source": [
    "# Read data\n",
    "data = pd.read_csv('../data/tables/tblclassdescriptions.csv', usecols=['CLASSNAME'])\n",
    "\n",
    "# # Try to clean data to remove some duplicates\n",
    "data['CLASSNAME'] = data['CLASSNAME'].str.lower()\n",
    "data.loc[data['CLASSNAME'].str.contains('full body', case=False, na=False), 'CLASSNAME'] = 'full body'\n",
    "data.loc[data['CLASSNAME'].str.contains('buns + abs', case=False, na=False), 'CLASSNAME'] = 'buns + abs'\n",
    "# data.loc[data['CLASSNAME'].str.contains('full body', case=False, na=False), 'CLASSNAME'] = 'full body'\n",
    "# data['TYPENAME'] = data['TYPENAME'].str.replace(r'\\bclasses\\b', 'class', case=False, regex=True)\n",
    "# data['TYPENAME'] = data['TYPENAME'].str.replace(r'\\bclass\\b', '', case=False, regex=True)\n",
    "# data['TYPENAME'] = data['TYPENAME'].str.replace(r'\\bcoaches\\b', 'coach', case=False, regex=True)\n",
    "# data['TYPENAME'] = data['TYPENAME'].str.replace(r'-', '', case=False, regex=True)\n",
    "# data['TYPENAME'] = data['TYPENAME'].str.replace(r'\\[', '', case=False, regex=True)\n",
    "# data['TYPENAME'] = data['TYPENAME'].str.replace(r'\\]', '', case=False, regex=True)\n",
    "# data['TYPENAME'] = data['TYPENAME'].str.replace(r'!', '', case=False, regex=True)\n",
    "# data['TYPENAME'] = data['TYPENAME'].str.strip()\n",
    "\n",
    "# # Get uniques\n",
    "uniques = data['CLASSNAME'].unique()\n",
    "\n",
    "# # Print\n",
    "print(data.shape[0])\n",
    "print(len(uniques))\n",
    "\n",
    "# # Save uniques in csv\n",
    "np.savetxt('classname.csv', uniques, fmt='%s')"
   ]
  }
 ],
 "metadata": {
  "kernelspec": {
   "display_name": "Python 3",
   "language": "python",
   "name": "python3"
  },
  "language_info": {
   "codemirror_mode": {
    "name": "ipython",
    "version": 3
   },
   "file_extension": ".py",
   "mimetype": "text/x-python",
   "name": "python",
   "nbconvert_exporter": "python",
   "pygments_lexer": "ipython3",
   "version": "3.11.4"
  },
  "orig_nbformat": 4
 },
 "nbformat": 4,
 "nbformat_minor": 2
}
