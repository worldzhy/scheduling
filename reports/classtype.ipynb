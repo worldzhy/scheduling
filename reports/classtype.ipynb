{
 "cells": [
  {
   "cell_type": "code",
   "execution_count": 12,
   "metadata": {},
   "outputs": [],
   "source": [
    "# Imports\n",
    "import pandas as pd\n",
    "import numpy as np"
   ]
  },
  {
   "cell_type": "code",
   "execution_count": 8,
   "metadata": {},
   "outputs": [
    {
     "name": "stdout",
     "output_type": "stream",
     "text": [
      "   studio  classid                  classname\n",
      "0   44717    20725  Full Body - Half Capacity\n",
      "1   44717        2          Free Mock Classes\n",
      "2   44717       10          Free Mock Classes\n",
      "3   44717        3          Free Mock Classes\n",
      "4   44717        4          Free Mock Classes\n"
     ]
    }
   ],
   "source": [
    "# Read data\n",
    "data = pd.read_csv('../data/tables/tblclasses_descriptions_44717.csv', usecols=['STUDIOID','CLASSID', 'CLASSNAME'])\n",
    "\n",
    "# # Filter data (sample only)\n",
    "data = data[data['STUDIOID'] == 44717]\n",
    "\n",
    "# Rename the selected columns\n",
    "data.rename(\n",
    "    columns = {\n",
    "        'STUDIOID': 'studio',\n",
    "        'CLASSID': 'classid',\n",
    "        'CLASSNAME': 'classname',\n",
    "    },\n",
    "    inplace = True\n",
    ")\n",
    "\n",
    "# Print\n",
    "print(data.head())"
   ]
  },
  {
   "cell_type": "code",
   "execution_count": 13,
   "metadata": {},
   "outputs": [
    {
     "name": "stdout",
     "output_type": "stream",
     "text": [
      "Number of rows: 61815\n",
      "Unique studios: 1\n",
      "Unique class ids: 61815\n",
      "Unique classnames: 1829\n"
     ]
    }
   ],
   "source": [
    "# Explore data\n",
    "print('Number of rows:', data.shape[0])\n",
    "print('Unique studios:', len(data['studio'].unique()))\n",
    "print('Unique class ids:', len(data['classid'].unique()))\n",
    "print('Unique classnames:', len(data['classname'].unique()))\n",
    "\n",
    "# # Save unique classnames in csv\n",
    "np.savetxt('classtype.csv', data['classname'].unique(), fmt='%s')"
   ]
  }
 ],
 "metadata": {
  "kernelspec": {
   "display_name": "Python 3",
   "language": "python",
   "name": "python3"
  },
  "language_info": {
   "codemirror_mode": {
    "name": "ipython",
    "version": 3
   },
   "file_extension": ".py",
   "mimetype": "text/x-python",
   "name": "python",
   "nbconvert_exporter": "python",
   "pygments_lexer": "ipython3",
   "version": "3.11.4"
  },
  "orig_nbformat": 4
 },
 "nbformat": 4,
 "nbformat_minor": 2
}
